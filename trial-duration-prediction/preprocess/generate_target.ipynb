{
 "cells": [
  {
   "cell_type": "code",
   "execution_count": 1,
   "metadata": {},
   "outputs": [],
   "source": [
    "\n",
    "from xml.etree import ElementTree as ET\n",
    "from datetime import datetime\n",
    "import re\n",
    "import pandas as pd\n",
    "import matplotlib.pyplot as plt\n",
    "from tqdm import tqdm\n"
   ]
  },
  {
   "cell_type": "code",
   "execution_count": 2,
   "metadata": {},
   "outputs": [],
   "source": [
    "def parse_date(date_str):\n",
    "    try:\n",
    "        output = datetime.strptime(date_str, \"%B %d, %Y\")\n",
    "    except:\n",
    "        try:\n",
    "            output = datetime.strptime(date_str, \"%B %Y\")\n",
    "        except Exception as e:\n",
    "            print(e)\n",
    "            raise e\n",
    "    return output\n",
    "\n",
    "def calculate_duration(start_date, completion_date):\n",
    "    # Unit: days\n",
    "    if start_date and completion_date:\n",
    "        start_date = parse_date(start_date)\n",
    "        completion_date = parse_date(completion_date)\n",
    "        duration = (completion_date - start_date).days\n",
    "    else:\n",
    "        duration = -1\n",
    "\n",
    "    return duration\n",
    "\n",
    "def xmlfile2date(xml_file):\n",
    "    tree = ET.parse(xml_file)\n",
    "    root = tree.getroot()\n",
    "    try:\n",
    "        start_date = root.find('start_date').text\n",
    "    except:\n",
    "        start_date = ''\n",
    "    try:\n",
    "        completion_date = root.find('primary_completion_date').text\n",
    "    except:\n",
    "        try:\n",
    "            completion_date = root.find('completion_date').text \n",
    "        except:\n",
    "            completion_date = ''\n",
    "\n",
    "    return start_date, completion_date\n"
   ]
  },
  {
   "cell_type": "code",
   "execution_count": 3,
   "metadata": {},
   "outputs": [
    {
     "name": "stderr",
     "output_type": "stream",
     "text": [
      "518633it [08:03, 1072.07it/s]\n"
     ]
    }
   ],
   "source": [
    "date_list = []\n",
    "\n",
    "# 480403 lines\n",
    "with open(\"../data/trials/all_xml.txt\", \"r\") as file:\n",
    "    for xml_path in tqdm(file):\n",
    "        xml_path = f\"../data/{xml_path.strip()}\"\n",
    "        \n",
    "        # NCT00000150 <- raw_data/NCT0000xxxx/NCT00000150.xml\n",
    "        nct_id = re.search(r\"/([^/]+)\\.xml$\", xml_path).group(1)\n",
    "        \n",
    "        start_date, completion_date = xmlfile2date(xml_path)\n",
    "\n",
    "        if start_date and completion_date:\n",
    "            duration = calculate_duration(start_date, completion_date)\n",
    "        else:\n",
    "            duration = -1\n",
    "\n",
    "        date_list.append((nct_id, start_date, completion_date, duration))\n"
   ]
  },
  {
   "cell_type": "code",
   "execution_count": 4,
   "metadata": {},
   "outputs": [
    {
     "name": "stdout",
     "output_type": "stream",
     "text": [
      "              ntcid         start_date    completion_date  time_day\n",
      "0       NCT00000102                                              -1\n",
      "1       NCT00000104                                              -1\n",
      "2       NCT00000105          July 2002         March 2012      3531\n",
      "3       NCT00000106                                              -1\n",
      "4       NCT00000107                                              -1\n",
      "...             ...                ...                ...       ...\n",
      "518628  NCT06724978  November 21, 2024  September 2, 2025       285\n",
      "518629  NCT06724991    January 1, 2025       June 1, 2027       881\n",
      "518630  NCT06725004    January 1, 2023  December 31, 2023       364\n",
      "518631  NCT06725017       July 1, 2025       July 1, 2027       730\n",
      "518632  NCT06725030   February 1, 2025      March 1, 2027       758\n",
      "\n",
      "[518633 rows x 4 columns]\n"
     ]
    }
   ],
   "source": [
    "# 478505 lines\n",
    "date_df = pd.DataFrame(date_list, columns=['ntcid', 'start_date', 'completion_date', 'time_day'])\n",
    "print(date_df)\n",
    "\n",
    "# date_df.to_csv('data/ntcid_time_all.csv', index=False, sep='\\t')"
   ]
  },
  {
   "cell_type": "code",
   "execution_count": 5,
   "metadata": {},
   "outputs": [],
   "source": [
    "# Filter out unusable time data.\n",
    "# 465251 lines\n",
    "date_df = date_df[date_df['time_day'] > 0]\n",
    "date_df.to_csv('../data/ntcid_time.csv', index=False, sep='\\t')"
   ]
  },
  {
   "cell_type": "code",
   "execution_count": 6,
   "metadata": {},
   "outputs": [
    {
     "name": "stdout",
     "output_type": "stream",
     "text": [
      "Medium time_day: 668.0\n",
      "Average time_day: 932.2726055771843\n",
      "Minimum time_day: 1\n",
      "Maximum time_day: 42217\n",
      "Standard Deviation of time_day: 1091.854301254484\n"
     ]
    }
   ],
   "source": [
    "# Analysis\n",
    "medium_time_day = date_df['time_day'].median()\n",
    "average_time_day = date_df['time_day'].mean()\n",
    "minimum_time_day = date_df['time_day'].min()\n",
    "maximum_time_day = date_df['time_day'].max()\n",
    "std_time_day = date_df['time_day'].std()\n",
    "\n",
    "print(\"Medium time_day:\", medium_time_day)\n",
    "print(\"Average time_day:\", average_time_day)\n",
    "print(\"Minimum time_day:\", minimum_time_day)\n",
    "print(\"Maximum time_day:\", maximum_time_day)\n",
    "print(\"Standard Deviation of time_day:\", std_time_day)\n"
   ]
  },
  {
   "cell_type": "code",
   "execution_count": 7,
   "metadata": {},
   "outputs": [
    {
     "name": "stdout",
     "output_type": "stream",
     "text": [
      "     month  count\n",
      "0        0   5402\n",
      "1        1  12110\n",
      "2        2  13004\n",
      "3        3  13430\n",
      "4        4  12555\n",
      "..     ...    ...\n",
      "578   1252      2\n",
      "579   1266      1\n",
      "580   1270      1\n",
      "581   1339      1\n",
      "582   1407      1\n",
      "\n",
      "[583 rows x 2 columns]\n"
     ]
    }
   ],
   "source": [
    "date_df['month'] = date_df['time_day'] // 30\n",
    "frequency_month = date_df['month'].value_counts().sort_index().reset_index()\n",
    "print(frequency_month)"
   ]
  },
  {
   "cell_type": "code",
   "execution_count": 8,
   "metadata": {},
   "outputs": [
    {
     "data": {
      "text/plain": "<Figure size 1000x600 with 1 Axes>",
      "image/png": "[encoded data removed]"
     },
     "metadata": {},
     "output_type": "display_data"
    }
   ],
   "source": [
    "plot_data = frequency_month[frequency_month['month'] <= 72]\n",
    "\n",
    "plt.figure(figsize=(10, 6))\n",
    "\n",
    "plt.scatter(plot_data['month'], plot_data['count'], s=10, c='blue')\n",
    "\n",
    "plt.xlabel('Month')\n",
    "plt.ylabel('Frequency')\n",
    "plt.title('Frequency of Months (Limited to 72)')\n",
    "plt.grid(True)  # Add grid\n",
    "\n",
    "plt.show()"
   ]
  },
  {
   "cell_type": "code",
   "execution_count": null,
   "metadata": {},
   "outputs": [],
   "source": []
  }
 ],
 "metadata": {
  "kernelspec": {
   "display_name": "base",
   "language": "python",
   "name": "python3"
  },
  "language_info": {
   "codemirror_mode": {
    "name": "ipython",
    "version": 3
   },
   "file_extension": ".py",
   "mimetype": "text/x-python",
   "name": "python",
   "nbconvert_exporter": "python",
   "pygments_lexer": "ipython3",
   "version": "3.8.18"
  }
 },
 "nbformat": 4,
 "nbformat_minor": 2
}
